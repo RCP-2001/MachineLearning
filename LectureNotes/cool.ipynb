{
 "cells": [
  {
   "attachments": {},
   "cell_type": "markdown",
   "metadata": {},
   "source": [
    "Classifictaion and regression\n",
    "2 classes :(             \n",
    "    "
   ]
  }
 ],
 "metadata": {
  "kernelspec": {
   "display_name": "MachineLearning",
   "language": "python",
   "name": "python3"
  },
  "language_info": {
   "name": "python",
   "version": "3.9.13"
  },
  "orig_nbformat": 4,
  "vscode": {
   "interpreter": {
    "hash": "4d2448a482dac3f3bf9eb9b52540334392b6166e25e2657828442f504bfc1fc9"
   }
  }
 },
 "nbformat": 4,
 "nbformat_minor": 2
}

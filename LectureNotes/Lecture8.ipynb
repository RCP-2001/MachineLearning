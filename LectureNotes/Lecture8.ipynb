{
 "cells": [
  {
   "attachments": {},
   "cell_type": "markdown",
   "metadata": {},
   "source": [
    "KNN Implementation"
   ]
  },
  {
   "cell_type": "code",
   "execution_count": 8,
   "metadata": {},
   "outputs": [
    {
     "name": "stdout",
     "output_type": "stream",
     "text": [
      "(150, 4) (150,)\n",
      "Training set: (120, 4) (120,)\n",
      "Test set: (30, 4) (30,)\n",
      "<class 'numpy.ndarray'>\n"
     ]
    }
   ],
   "source": [
    "import numpy as np\n",
    "from sklearn import datasets as ds\n",
    "from sklearn.model_selection import train_test_split #Split dataset into train and test set\n",
    "# Module 1: Data Prep\n",
    "# Not really OOP\n",
    "iris = ds.load_iris()\n",
    "FTRS = iris.data #Feature Vectors\n",
    "target = iris.target\n",
    "\n",
    "#print(FTRS)\n",
    "#aprint(target)\n",
    "\n",
    "print(FTRS.shape, target.shape)\n",
    "FTRS_Train, FTRS_Test, target_train, target_test =train_test_split(FTRS, target, test_size=0.2)\n",
    "\n",
    "print(\"Training set:\", FTRS_Train.shape, target_train.shape)\n",
    "print(\"Test set:\", FTRS_Test.shape, target_test.shape)\n",
    "print(type(FTRS_Train))\n"
   ]
  },
  {
   "cell_type": "code",
   "execution_count": null,
   "metadata": {},
   "outputs": [],
   "source": [
    "#Module 2: Training\n",
    "#None, "
   ]
  },
  {
   "cell_type": "code",
   "execution_count": null,
   "metadata": {},
   "outputs": [],
   "source": [
    "# Module 3: Prediction and Evaluation\n",
    "#Evaluate: error rate: % of data symbols missclassified\n",
    "\n",
    "#Prediction: find the k nearest neighbors, then \"vote\"\n"
   ]
  },
  {
   "cell_type": "code",
   "execution_count": 27,
   "metadata": {},
   "outputs": [
    {
     "name": "stdout",
     "output_type": "stream",
     "text": [
      "[5.5 2.3 4.  1.3]\n",
      "[[ 40]\n",
      " [ 10]\n",
      " [104]\n",
      " [116]\n",
      " [ 83]]\n"
     ]
    }
   ],
   "source": [
    "#Find the k nns for an input data sample\n",
    "def FindKngbs(FeatureVector, Training, k = 5):\n",
    "    '''Find K NN For given data sample in Training\n",
    "        input: \n",
    "            FeatureVectors: Test Vector\n",
    "            Training: Training dataTraining.shape[0]\n",
    "        return:\n",
    "            Index of KNN\n",
    "    '''\n",
    "    #Calulate Euclidan distance\n",
    "    n = Training.shape[0]\n",
    "    dis = np.zeros((n, 1))\n",
    "    inx = 0\n",
    "    for x in Training:\n",
    "        d = np.sqrt(np.sum((FeatureVector-x)*(FeatureVector-x)))\n",
    "        dis[inx]=d\n",
    "        inx += 1\n",
    "    ind = np.argsort(dis, axis=0)\n",
    "    return ind[:k] # return first K indecies\n",
    "\n",
    "\n",
    "x_star = FTRS_Test[0]\n",
    "print(x_star)\n",
    "x = FindKngbs(x_star, FTRS_Train, k =5)\n",
    "print(x)\n",
    "\n",
    "\n"
   ]
  },
  {
   "cell_type": "code",
   "execution_count": null,
   "metadata": {},
   "outputs": [],
   "source": [
    "#prediction\n",
    "y_train"
   ]
  },
  {
   "cell_type": "code",
   "execution_count": null,
   "metadata": {},
   "outputs": [],
   "source": [
    "# Modle Persistence"
   ]
  }
 ],
 "metadata": {
  "kernelspec": {
   "display_name": "MachineLearning",
   "language": "python",
   "name": "python3"
  },
  "language_info": {
   "codemirror_mode": {
    "name": "ipython",
    "version": 3
   },
   "file_extension": ".py",
   "mimetype": "text/x-python",
   "name": "python",
   "nbconvert_exporter": "python",
   "pygments_lexer": "ipython3",
   "version": "3.9.13"
  },
  "orig_nbformat": 4,
  "vscode": {
   "interpreter": {
    "hash": "4d2448a482dac3f3bf9eb9b52540334392b6166e25e2657828442f504bfc1fc9"
   }
  }
 },
 "nbformat": 4,
 "nbformat_minor": 2
}

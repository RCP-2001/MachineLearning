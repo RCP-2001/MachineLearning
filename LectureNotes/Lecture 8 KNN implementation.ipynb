{
 "cells": [
  {
   "cell_type": "code",
   "execution_count": 38,
   "id": "872bb1ce",
   "metadata": {},
   "outputs": [
    {
     "name": "stdout",
     "output_type": "stream",
     "text": [
      "(150, 4) (150,)\n",
      "training set (120, 4) (120,)\n",
      "test set (30, 4) (30,)\n"
     ]
    }
   ],
   "source": [
    "import numpy as np\n",
    "from sklearn import datasets as ds\n",
    "from sklearn.model_selection import train_test_split # split dataset into train and test sets\n",
    "\n",
    "# 1. Data preparation\n",
    "iris = ds.load_iris()\n",
    "X = iris.data # feature vectors\n",
    "y = iris.target\n",
    "\n",
    "print(X.shape, y.shape)\n",
    "X_train, X_test, y_train, y_test =train_test_split(X, y, test_size = 0.2) # test_size % of test set\n",
    "\n",
    "print('training set', X_train.shape, y_train.shape)\n",
    "print('test set', X_test.shape, y_test.shape)"
   ]
  },
  {
   "cell_type": "code",
   "execution_count": 39,
   "id": "6a5d8629",
   "metadata": {},
   "outputs": [],
   "source": [
    "# 2. Model training\n",
    "# KNN is an instance-based algorithm, and \n",
    "# it does not have the actual training\n"
   ]
  },
  {
   "cell_type": "code",
   "execution_count": 40,
   "id": "2c9ea99f",
   "metadata": {},
   "outputs": [
    {
     "name": "stdout",
     "output_type": "stream",
     "text": [
      "[2 2 1 1 1 2 2 0 2 1]\n",
      "[2 2 1 1 1 1 2 0 2 1]\n"
     ]
    }
   ],
   "source": [
    "def Prediction(X_input, X_Train, k=5):\n",
    "    '''\n",
    "        X_input: n*4 new data samples\n",
    "        X_train, \n",
    "    '''\n",
    "    y_pred = np.zeros((X_input.shape[0]))\n",
    "    for i, x in enumerate(X_input):\n",
    "        k_inx = findKNgbs(x,X_Train,k)\n",
    "        K_labels = y_train[k_inx]\n",
    "        counts = np.bincount(K_labels.reshape((k,)), minlength=2)\n",
    "        y_pred[i]= np.argmax(counts)\n",
    "    return y_pred.astype(int)\n",
    "\n",
    "x_in = X_test[:10]\n",
    "y_pred = Prediction(x_in, X_train)\n",
    "print(y_pred)\n",
    "print(y_test[:10])\n",
    "\n",
    "\n",
    "    "
   ]
  },
  {
   "cell_type": "code",
   "execution_count": 41,
   "id": "c8d70817",
   "metadata": {},
   "outputs": [
    {
     "name": "stderr",
     "output_type": "stream",
     "text": [
      "/tmp/ipykernel_2913/1551448293.py:3: DeprecationWarning: elementwise comparison failed; this will raise an error in the future.\n",
      "  return np.sum((y_true != y_pred)) / y_true.shape[0]\n"
     ]
    },
    {
     "data": {
      "text/plain": [
       "0.5"
      ]
     },
     "execution_count": 41,
     "metadata": {},
     "output_type": "execute_result"
    }
   ],
   "source": [
    "#Calculate error rate\n",
    "def error_rate(y_pred, y_true):\n",
    "    return np.sum((y_true != y_pred)) / y_true.shape[0]\n",
    "error_rate(y_pred, y_test[:2])\n"
   ]
  },
  {
   "cell_type": "code",
   "execution_count": 42,
   "id": "09d8c573",
   "metadata": {},
   "outputs": [],
   "source": [
    "# 3. Prediction and evaluation\n",
    "# evaluation metric: error rate : % of data samples missclassified\n",
    "\n",
    "# prediction: 1) find the K nearest neighbors; 2)voting to predict"
   ]
  },
  {
   "cell_type": "code",
   "execution_count": 43,
   "id": "da045754",
   "metadata": {},
   "outputs": [
    {
     "name": "stdout",
     "output_type": "stream",
     "text": [
      "[6.7 2.5 5.8 1.8]\n",
      "[[105]\n",
      " [107]\n",
      " [ 86]\n",
      " [ 12]\n",
      " [ 50]]\n"
     ]
    },
    {
     "data": {
      "text/plain": [
       "array([2, 1, 2, 0])"
      ]
     },
     "execution_count": 43,
     "metadata": {},
     "output_type": "execute_result"
    }
   ],
   "source": [
    "#1) find the k nns for an input data sample\n",
    "def findKNgbs(x_star, X_train, K = 5):\n",
    "    '''find K nearest neighbors for a given data sample in X_train\n",
    "        \n",
    "        input:\n",
    "            x_star: new data sample. Shape 1 by 4\n",
    "            X_train:\n",
    "        return:\n",
    "            K nearest neighbors\n",
    "    '''\n",
    "    # calculate the Euclidean distance \n",
    "    n = X_train.shape[0] # number of data samples in X_train\n",
    "    dis = np.zeros((n, 1)) # initialize n 0 distances\n",
    "    inx = 0\n",
    "    for x in X_train:\n",
    "        d = np.sqrt(np.sum((x_star-x)*(x_star-x)))\n",
    "        dis[inx] = d\n",
    "        inx = inx + 1\n",
    "        \n",
    "    # find the k nearest neighbors using a sorting algorithm\n",
    "    ind = np.argsort(dis, axis = 0)\n",
    "    \n",
    "    return ind[:K] # return the indices for the K nns\n",
    "\n",
    "x_star = X_test[0]\n",
    "print(x_star)\n",
    "k_inx = findKNgbs(x_star, X_train, K=5)\n",
    "print(k_inx)\n",
    "\n",
    "Prediction(x_star, X_train, k=5)"
   ]
  },
  {
   "cell_type": "code",
   "execution_count": 44,
   "id": "7c283fc4",
   "metadata": {},
   "outputs": [
    {
     "name": "stdout",
     "output_type": "stream",
     "text": [
      "[[2]\n",
      " [2]\n",
      " [2]\n",
      " [2]\n",
      " [2]]\n",
      "[0 0 5]\n",
      "the prediction is 2\n"
     ]
    }
   ],
   "source": [
    "# prediction\n",
    "# check the class lables of the k nns\n",
    "k_labels = y_train[k_inx]\n",
    "print(k_labels)\n",
    "#print(k_labels.reshape(5,))\n",
    "\n",
    "counts = np.bincount(k_labels.reshape((5,)), minlength = 2)\n",
    "print(counts)\n",
    "\n",
    "y_pred =np.argmax(counts)\n",
    "print('the prediction is', y_pred)"
   ]
  },
  {
   "cell_type": "code",
   "execution_count": 45,
   "id": "6324a4f2",
   "metadata": {},
   "outputs": [],
   "source": [
    "# afterclass practice\n",
    "#1. how do we calculate the predictions for all test data samples\n",
    "\n",
    "\n",
    "#2. calculate the error rate on the test set\n",
    "# try to use differnt K\n"
   ]
  },
  {
   "cell_type": "code",
   "execution_count": 46,
   "id": "9cb70cd6",
   "metadata": {},
   "outputs": [],
   "source": [
    "#4. model persistance\n",
    "\n"
   ]
  },
  {
   "cell_type": "code",
   "execution_count": 50,
   "id": "db0c741d",
   "metadata": {},
   "outputs": [
    {
     "name": "stdout",
     "output_type": "stream",
     "text": [
      "0.03333333333333333\n",
      "0.03333333333333333\n",
      "0.03333333333333333\n",
      "0.03333333333333333\n",
      "0.03333333333333333\n",
      "0.03333333333333333\n",
      "0.03333333333333333\n",
      "0.03333333333333333\n",
      "0.03333333333333333\n",
      "0.03333333333333333\n",
      "0.03333333333333333\n",
      "0.03333333333333333\n",
      "0.06666666666666667\n",
      "0.06666666666666667\n",
      "0.06666666666666667\n",
      "0.06666666666666667\n",
      "0.06666666666666667\n",
      "0.06666666666666667\n",
      "0.06666666666666667\n",
      "0.06666666666666667\n",
      "0.06666666666666667\n",
      "0.06666666666666667\n",
      "0.06666666666666667\n",
      "0.06666666666666667\n",
      "0.06666666666666667\n",
      "0.06666666666666667\n",
      "0.1\n",
      "0.1\n",
      "0.13333333333333333\n",
      "0.1\n",
      "0.26666666666666666\n",
      "0.23333333333333334\n",
      "0.23333333333333334\n",
      "0.43333333333333335\n",
      "0.4666666666666667\n",
      "0.5333333333333333\n",
      "0.5333333333333333\n",
      "0.5333333333333333\n",
      "0.5333333333333333\n",
      "0.5666666666666667\n",
      "0.5666666666666667\n",
      "0.5666666666666667\n",
      "0.5666666666666667\n",
      "0.5666666666666667\n",
      "0.5666666666666667\n",
      "0.5666666666666667\n",
      "0.5666666666666667\n",
      "0.5666666666666667\n",
      "0.5666666666666667\n",
      "0.5666666666666667\n"
     ]
    }
   ],
   "source": [
    "for k in range(1,100,2):\n",
    "    y_pred=Prediction(X_test, X_train, k)\n",
    "    er =  error_rate(y_pred, y_test)\n",
    "    print(er)"
   ]
  }
 ],
 "metadata": {
  "kernelspec": {
   "display_name": "MachineLearning",
   "language": "python",
   "name": "python3"
  },
  "language_info": {
   "codemirror_mode": {
    "name": "ipython",
    "version": 3
   },
   "file_extension": ".py",
   "mimetype": "text/x-python",
   "name": "python",
   "nbconvert_exporter": "python",
   "pygments_lexer": "ipython3",
   "version": "3.9.13"
  },
  "vscode": {
   "interpreter": {
    "hash": "4d2448a482dac3f3bf9eb9b52540334392b6166e25e2657828442f504bfc1fc9"
   }
  }
 },
 "nbformat": 4,
 "nbformat_minor": 5
}

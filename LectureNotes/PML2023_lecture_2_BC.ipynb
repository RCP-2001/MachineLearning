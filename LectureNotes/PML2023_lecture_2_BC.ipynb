{
 "cells": [
  {
   "cell_type": "markdown",
   "metadata": {},
   "source": [
    " # Lecture 2: Python Data Types and Stuctures\n",
    " \n",
    " The lecture introduce and practice the Python data types and structures:\n",
    "   - [An overview](#section1)\n",
    "   - [Numeric types](#section2)\n",
    "   - [Strings](#section3)\n",
    "   - [Lists](#section4)\n",
    "   - [Dictionaries](#section5)\n",
    "   - [Tuples](#section6)\n",
    "   - [Sets](#section7)\n",
    "   \n",
    "In an informal sense, the purpose of programming is to solve problems by defining and performing operations on **data**.\n",
    "\n",
    "Data have different forms and units, e.g., grades (100 points), body weight (150.0 lbs), and temperature: 80$^{o} F$"
   ]
  },
  {
   "cell_type": "markdown",
   "metadata": {},
   "source": [
    "## 2.1. Overview of Python Core Data types and structures <a id = \"section 1\"/>\n",
    "1. Numbers\n",
    "\n",
    "```pyhton\n",
    "i = 2200000 # positive integer\n",
    "i1 = -1234   # negative integer\n",
    "f1 = 3.1415926 #float-point number\n",
    "```\n",
    "\n",
    "2. Strings\n",
    "```python\n",
    "str1 = 'Bruce Lee'\n",
    "```\n",
    "\n",
    "3. Lists\n",
    "```python\n",
    "l1 = [1, 2, 3.0]\n",
    "l2 = [1, 2.5, 'spam']\n",
    "```\n",
    "\n",
    "4. Dictionaries\n",
    "```python\n",
    "dic = {'Bruce': 100, 'Henry':, 80}\n",
    "```\n",
    "\n",
    "5. Tuples\n",
    "```python\n",
    "t = (100, 200)\n",
    "```\n",
    "6. Sets\n",
    "```python\n",
    "s = {100, 200, 300}\n",
    "```\n",
    "\n",
    "7. Files\n",
    "\n",
    "```python\n",
    "f = open('hello.txt')\n",
    "```"
   ]
  },
  {
   "cell_type": "markdown",
   "metadata": {},
   "source": [
    "#### Python is a **dynamically-typed** programming language\n",
    "- It does not need data type declarations and tracks data types automatically based on the expressions.\n",
    "\n",
    "```C++\n",
    "//C++ example\n",
    "int a; // type decalaration\n",
    "a = 5;\n",
    "```\n",
    "\n",
    "```python\n",
    "#python example\n",
    "a = 5\n",
    "```\n",
    "\n",
    "- Dynamic typing languages\n",
    "    - Pyhton, Perl, PHP, and JavaScript\n",
    "- Static typing languages\n",
    "    - Java, C, and C++"
   ]
  },
  {
   "cell_type": "markdown",
   "metadata": {},
   "source": [
    "## 2.2 Numbers and operations <a id=\"section2\"/>"
   ]
  },
  {
   "cell_type": "code",
   "execution_count": 13,
   "metadata": {},
   "outputs": [
    {
     "data": {
      "text/plain": [
       "float"
      ]
     },
     "execution_count": 13,
     "metadata": {},
     "output_type": "execute_result"
    }
   ],
   "source": [
    "#int\n",
    "i = 5\n",
    "type(i)"
   ]
  },
  {
   "cell_type": "code",
   "execution_count": 6,
   "metadata": {},
   "outputs": [
    {
     "data": {
      "text/plain": [
       "float"
      ]
     },
     "execution_count": 6,
     "metadata": {},
     "output_type": "execute_result"
    }
   ],
   "source": [
    "#float\n",
    "i = 5.5\n",
    "type(i)"
   ]
  },
  {
   "cell_type": "code",
   "execution_count": 9,
   "metadata": {},
   "outputs": [
    {
     "data": {
      "text/plain": [
       "float"
      ]
     },
     "execution_count": 9,
     "metadata": {},
     "output_type": "execute_result"
    }
   ],
   "source": [
    "f1 = 1e-2 # 10^-2\n",
    "#type(f1)\n",
    "print(f1)\n"
   ]
  },
  {
   "cell_type": "code",
   "execution_count": 3,
   "metadata": {},
   "outputs": [],
   "source": [
    "#types \n"
   ]
  },
  {
   "cell_type": "code",
   "execution_count": 16,
   "metadata": {},
   "outputs": [
    {
     "name": "stdout",
     "output_type": "stream",
     "text": [
      "0.30000000000000004\n",
      "5.551115123125783e-17\n",
      "f3 0.0\n"
     ]
    }
   ],
   "source": [
    "# display issue of float numbers\n",
    "f = 0.1 + 0.1 + 0.1\n",
    "print(f)\n",
    "f3 = f - 0.3\n",
    "\n",
    "print(f3)\n",
    "print(\"f3\", round(f3, 2))"
   ]
  },
  {
   "cell_type": "code",
   "execution_count": 17,
   "metadata": {},
   "outputs": [],
   "source": [
    "## covert\n",
    "i = 1\n",
    "f = float(i)"
   ]
  },
  {
   "cell_type": "markdown",
   "metadata": {},
   "source": [
    "Operations\n",
    "- Basic operations: +, -, \\*, /, ** , %(remainder), <, >, ==, etc.\n",
    "- Build-in mathematical functions: pow, abs, round, int, etc.\n",
    "- Other modules: math, random, etc. \n"
   ]
  },
  {
   "cell_type": "code",
   "execution_count": 21,
   "metadata": {},
   "outputs": [
    {
     "name": "stdout",
     "output_type": "stream",
     "text": [
      "16\n"
     ]
    }
   ],
   "source": [
    "# practice \n",
    "print(2**2**2)"
   ]
  },
  {
   "cell_type": "code",
   "execution_count": null,
   "metadata": {},
   "outputs": [],
   "source": []
  },
  {
   "cell_type": "code",
   "execution_count": null,
   "metadata": {},
   "outputs": [],
   "source": []
  },
  {
   "cell_type": "markdown",
   "metadata": {},
   "source": [
    "- Build-in math operations\n",
    "\n",
    "- Build-in mathematical functions: pow, abs, round, int, etc\n",
    "   \n",
    "   -- we have used some buit-in functions in Python, e.g., round, and type. The functions are built into Python intepreter. We use use it and do not need to import any packages. Check the list of all built-in functions in Python:\n",
    "https://docs.python.org/3.8/library/functions.html"
   ]
  },
  {
   "cell_type": "code",
   "execution_count": 23,
   "metadata": {},
   "outputs": [
    {
     "name": "stdout",
     "output_type": "stream",
     "text": [
      "Help on built-in function pow in module builtins:\n",
      "\n",
      "pow(base, exp, mod=None)\n",
      "    Equivalent to base**exp with 2 arguments or base**exp % mod with 3 arguments\n",
      "    \n",
      "    Some types, such as ints, are able to use a more efficient algorithm when\n",
      "    invoked using the three argument form.\n",
      "\n",
      "Help on class int in module builtins:\n",
      "\n",
      "class int(object)\n",
      " |  int([x]) -> integer\n",
      " |  int(x, base=10) -> integer\n",
      " |  \n",
      " |  Convert a number or string to an integer, or return 0 if no arguments\n",
      " |  are given.  If x is a number, return x.__int__().  For floating point\n",
      " |  numbers, this truncates towards zero.\n",
      " |  \n",
      " |  If x is not a number or if base is given, then x must be a string,\n",
      " |  bytes, or bytearray instance representing an integer literal in the\n",
      " |  given base.  The literal can be preceded by '+' or '-' and be surrounded\n",
      " |  by whitespace.  The base defaults to 10.  Valid bases are 0 and 2-36.\n",
      " |  Base 0 means to interpret the base from the string as an integer literal.\n",
      " |  >>> int('0b100', base=0)\n",
      " |  4\n",
      " |  \n",
      " |  Built-in subclasses:\n",
      " |      bool\n",
      " |  \n",
      " |  Methods defined here:\n",
      " |  \n",
      " |  __abs__(self, /)\n",
      " |      abs(self)\n",
      " |  \n",
      " |  __add__(self, value, /)\n",
      " |      Return self+value.\n",
      " |  \n",
      " |  __and__(self, value, /)\n",
      " |      Return self&value.\n",
      " |  \n",
      " |  __bool__(self, /)\n",
      " |      True if self else False\n",
      " |  \n",
      " |  __ceil__(...)\n",
      " |      Ceiling of an Integral returns itself.\n",
      " |  \n",
      " |  __divmod__(self, value, /)\n",
      " |      Return divmod(self, value).\n",
      " |  \n",
      " |  __eq__(self, value, /)\n",
      " |      Return self==value.\n",
      " |  \n",
      " |  __float__(self, /)\n",
      " |      float(self)\n",
      " |  \n",
      " |  __floor__(...)\n",
      " |      Flooring an Integral returns itself.\n",
      " |  \n",
      " |  __floordiv__(self, value, /)\n",
      " |      Return self//value.\n",
      " |  \n",
      " |  __format__(self, format_spec, /)\n",
      " |      Default object formatter.\n",
      " |  \n",
      " |  __ge__(self, value, /)\n",
      " |      Return self>=value.\n",
      " |  \n",
      " |  __getattribute__(self, name, /)\n",
      " |      Return getattr(self, name).\n",
      " |  \n",
      " |  __getnewargs__(self, /)\n",
      " |  \n",
      " |  __gt__(self, value, /)\n",
      " |      Return self>value.\n",
      " |  \n",
      " |  __hash__(self, /)\n",
      " |      Return hash(self).\n",
      " |  \n",
      " |  __index__(self, /)\n",
      " |      Return self converted to an integer, if self is suitable for use as an index into a list.\n",
      " |  \n",
      " |  __int__(self, /)\n",
      " |      int(self)\n",
      " |  \n",
      " |  __invert__(self, /)\n",
      " |      ~self\n",
      " |  \n",
      " |  __le__(self, value, /)\n",
      " |      Return self<=value.\n",
      " |  \n",
      " |  __lshift__(self, value, /)\n",
      " |      Return self<<value.\n",
      " |  \n",
      " |  __lt__(self, value, /)\n",
      " |      Return self<value.\n",
      " |  \n",
      " |  __mod__(self, value, /)\n",
      " |      Return self%value.\n",
      " |  \n",
      " |  __mul__(self, value, /)\n",
      " |      Return self*value.\n",
      " |  \n",
      " |  __ne__(self, value, /)\n",
      " |      Return self!=value.\n",
      " |  \n",
      " |  __neg__(self, /)\n",
      " |      -self\n",
      " |  \n",
      " |  __or__(self, value, /)\n",
      " |      Return self|value.\n",
      " |  \n",
      " |  __pos__(self, /)\n",
      " |      +self\n",
      " |  \n",
      " |  __pow__(self, value, mod=None, /)\n",
      " |      Return pow(self, value, mod).\n",
      " |  \n",
      " |  __radd__(self, value, /)\n",
      " |      Return value+self.\n",
      " |  \n",
      " |  __rand__(self, value, /)\n",
      " |      Return value&self.\n",
      " |  \n",
      " |  __rdivmod__(self, value, /)\n",
      " |      Return divmod(value, self).\n",
      " |  \n",
      " |  __repr__(self, /)\n",
      " |      Return repr(self).\n",
      " |  \n",
      " |  __rfloordiv__(self, value, /)\n",
      " |      Return value//self.\n",
      " |  \n",
      " |  __rlshift__(self, value, /)\n",
      " |      Return value<<self.\n",
      " |  \n",
      " |  __rmod__(self, value, /)\n",
      " |      Return value%self.\n",
      " |  \n",
      " |  __rmul__(self, value, /)\n",
      " |      Return value*self.\n",
      " |  \n",
      " |  __ror__(self, value, /)\n",
      " |      Return value|self.\n",
      " |  \n",
      " |  __round__(...)\n",
      " |      Rounding an Integral returns itself.\n",
      " |      Rounding with an ndigits argument also returns an integer.\n",
      " |  \n",
      " |  __rpow__(self, value, mod=None, /)\n",
      " |      Return pow(value, self, mod).\n",
      " |  \n",
      " |  __rrshift__(self, value, /)\n",
      " |      Return value>>self.\n",
      " |  \n",
      " |  __rshift__(self, value, /)\n",
      " |      Return self>>value.\n",
      " |  \n",
      " |  __rsub__(self, value, /)\n",
      " |      Return value-self.\n",
      " |  \n",
      " |  __rtruediv__(self, value, /)\n",
      " |      Return value/self.\n",
      " |  \n",
      " |  __rxor__(self, value, /)\n",
      " |      Return value^self.\n",
      " |  \n",
      " |  __sizeof__(self, /)\n",
      " |      Returns size in memory, in bytes.\n",
      " |  \n",
      " |  __sub__(self, value, /)\n",
      " |      Return self-value.\n",
      " |  \n",
      " |  __truediv__(self, value, /)\n",
      " |      Return self/value.\n",
      " |  \n",
      " |  __trunc__(...)\n",
      " |      Truncating an Integral returns itself.\n",
      " |  \n",
      " |  __xor__(self, value, /)\n",
      " |      Return self^value.\n",
      " |  \n",
      " |  as_integer_ratio(self, /)\n",
      " |      Return integer ratio.\n",
      " |      \n",
      " |      Return a pair of integers, whose ratio is exactly equal to the original int\n",
      " |      and with a positive denominator.\n",
      " |      \n",
      " |      >>> (10).as_integer_ratio()\n",
      " |      (10, 1)\n",
      " |      >>> (-10).as_integer_ratio()\n",
      " |      (-10, 1)\n",
      " |      >>> (0).as_integer_ratio()\n",
      " |      (0, 1)\n",
      " |  \n",
      " |  bit_length(self, /)\n",
      " |      Number of bits necessary to represent self in binary.\n",
      " |      \n",
      " |      >>> bin(37)\n",
      " |      '0b100101'\n",
      " |      >>> (37).bit_length()\n",
      " |      6\n",
      " |  \n",
      " |  conjugate(...)\n",
      " |      Returns self, the complex conjugate of any int.\n",
      " |  \n",
      " |  to_bytes(self, /, length, byteorder, *, signed=False)\n",
      " |      Return an array of bytes representing an integer.\n",
      " |      \n",
      " |      length\n",
      " |        Length of bytes object to use.  An OverflowError is raised if the\n",
      " |        integer is not representable with the given number of bytes.\n",
      " |      byteorder\n",
      " |        The byte order used to represent the integer.  If byteorder is 'big',\n",
      " |        the most significant byte is at the beginning of the byte array.  If\n",
      " |        byteorder is 'little', the most significant byte is at the end of the\n",
      " |        byte array.  To request the native byte order of the host system, use\n",
      " |        `sys.byteorder' as the byte order value.\n",
      " |      signed\n",
      " |        Determines whether two's complement is used to represent the integer.\n",
      " |        If signed is False and a negative integer is given, an OverflowError\n",
      " |        is raised.\n",
      " |  \n",
      " |  ----------------------------------------------------------------------\n",
      " |  Class methods defined here:\n",
      " |  \n",
      " |  from_bytes(bytes, byteorder, *, signed=False) from builtins.type\n",
      " |      Return the integer represented by the given array of bytes.\n",
      " |      \n",
      " |      bytes\n",
      " |        Holds the array of bytes to convert.  The argument must either\n",
      " |        support the buffer protocol or be an iterable object producing bytes.\n",
      " |        Bytes and bytearray are examples of built-in objects that support the\n",
      " |        buffer protocol.\n",
      " |      byteorder\n",
      " |        The byte order used to represent the integer.  If byteorder is 'big',\n",
      " |        the most significant byte is at the beginning of the byte array.  If\n",
      " |        byteorder is 'little', the most significant byte is at the end of the\n",
      " |        byte array.  To request the native byte order of the host system, use\n",
      " |        `sys.byteorder' as the byte order value.\n",
      " |      signed\n",
      " |        Indicates whether two's complement is used to represent the integer.\n",
      " |  \n",
      " |  ----------------------------------------------------------------------\n",
      " |  Static methods defined here:\n",
      " |  \n",
      " |  __new__(*args, **kwargs) from builtins.type\n",
      " |      Create and return a new object.  See help(type) for accurate signature.\n",
      " |  \n",
      " |  ----------------------------------------------------------------------\n",
      " |  Data descriptors defined here:\n",
      " |  \n",
      " |  denominator\n",
      " |      the denominator of a rational number in lowest terms\n",
      " |  \n",
      " |  imag\n",
      " |      the imaginary part of a complex number\n",
      " |  \n",
      " |  numerator\n",
      " |      the numerator of a rational number in lowest terms\n",
      " |  \n",
      " |  real\n",
      " |      the real part of a complex number\n",
      "\n"
     ]
    }
   ],
   "source": [
    "help(pow) # check document to know how to use a function\n",
    "\n",
    "help(int)"
   ]
  },
  {
   "cell_type": "code",
   "execution_count": 28,
   "metadata": {},
   "outputs": [
    {
     "data": {
      "text/plain": [
       "3"
      ]
     },
     "execution_count": 28,
     "metadata": {},
     "output_type": "execute_result"
    }
   ],
   "source": [
    "# use the math module. https://docs.python.org/3.8/library/math.html#module-math\n",
    "import math\n",
    "\n",
    "math.floor(3.999)"
   ]
  },
  {
   "cell_type": "code",
   "execution_count": 30,
   "metadata": {},
   "outputs": [
    {
     "name": "stdout",
     "output_type": "stream",
     "text": [
      "0.8393134286718048\n"
     ]
    },
    {
     "data": {
      "text/plain": [
       "[4]"
      ]
     },
     "execution_count": 30,
     "metadata": {},
     "output_type": "execute_result"
    }
   ],
   "source": [
    "# https://docs.python.org/3.7/library/random.html#module-random\n",
    "import random\n",
    "\n",
    "r = random.random()\n",
    "print(r)\n",
    "\n",
    "random.choices([1, 2, 3, 4])"
   ]
  },
  {
   "cell_type": "markdown",
   "metadata": {},
   "source": [
    "## 2.3. Strings and operations <a id=\"section3\"/>"
   ]
  },
  {
   "cell_type": "code",
   "execution_count": 33,
   "metadata": {},
   "outputs": [
    {
     "name": "stdout",
     "output_type": "stream",
     "text": [
      "test's\n"
     ]
    }
   ],
   "source": [
    "#create string\n",
    "s1 = \"test\\'s\"\n",
    "print(s1)"
   ]
  },
  {
   "cell_type": "code",
   "execution_count": 32,
   "metadata": {},
   "outputs": [
    {
     "name": "stdout",
     "output_type": "stream",
     "text": [
      "test's\n"
     ]
    }
   ],
   "source": [
    "# string with '\n",
    "#create string\n",
    "s1 = 'test\\'s'\n",
    "print(s1)"
   ]
  },
  {
   "cell_type": "code",
   "execution_count": 37,
   "metadata": {},
   "outputs": [
    {
     "name": "stdout",
     "output_type": "stream",
     "text": [
      "Python programming\n"
     ]
    }
   ],
   "source": [
    "# + concatenates two strings\n",
    "s1 = 'Python'\n",
    "s2 = 'programming'\n",
    "\n",
    "print(s1+ \" \" + s2)"
   ]
  },
  {
   "cell_type": "code",
   "execution_count": 40,
   "metadata": {},
   "outputs": [
    {
     "data": {
      "text/plain": [
       "'PythonPythonPythonPythonPythonPythonPythonPythonPythonPython'"
      ]
     },
     "execution_count": 40,
     "metadata": {},
     "output_type": "execute_result"
    }
   ],
   "source": [
    "#repetition\n",
    "s1 = \"Python\"\n",
    "s1*10"
   ]
  },
  {
   "cell_type": "code",
   "execution_count": 42,
   "metadata": {},
   "outputs": [
    {
     "data": {
      "text/plain": [
       "6"
      ]
     },
     "execution_count": 42,
     "metadata": {},
     "output_type": "execute_result"
    }
   ],
   "source": [
    "# len\n",
    "len(s1)"
   ]
  },
  {
   "cell_type": "code",
   "execution_count": 43,
   "metadata": {
    "scrolled": true
   },
   "outputs": [
    {
     "data": {
      "text/plain": [
       "['__add__',\n",
       " '__class__',\n",
       " '__contains__',\n",
       " '__delattr__',\n",
       " '__dir__',\n",
       " '__doc__',\n",
       " '__eq__',\n",
       " '__format__',\n",
       " '__ge__',\n",
       " '__getattribute__',\n",
       " '__getitem__',\n",
       " '__getnewargs__',\n",
       " '__gt__',\n",
       " '__hash__',\n",
       " '__init__',\n",
       " '__init_subclass__',\n",
       " '__iter__',\n",
       " '__le__',\n",
       " '__len__',\n",
       " '__lt__',\n",
       " '__mod__',\n",
       " '__mul__',\n",
       " '__ne__',\n",
       " '__new__',\n",
       " '__reduce__',\n",
       " '__reduce_ex__',\n",
       " '__repr__',\n",
       " '__rmod__',\n",
       " '__rmul__',\n",
       " '__setattr__',\n",
       " '__sizeof__',\n",
       " '__str__',\n",
       " '__subclasshook__',\n",
       " 'capitalize',\n",
       " 'casefold',\n",
       " 'center',\n",
       " 'count',\n",
       " 'encode',\n",
       " 'endswith',\n",
       " 'expandtabs',\n",
       " 'find',\n",
       " 'format',\n",
       " 'format_map',\n",
       " 'index',\n",
       " 'isalnum',\n",
       " 'isalpha',\n",
       " 'isascii',\n",
       " 'isdecimal',\n",
       " 'isdigit',\n",
       " 'isidentifier',\n",
       " 'islower',\n",
       " 'isnumeric',\n",
       " 'isprintable',\n",
       " 'isspace',\n",
       " 'istitle',\n",
       " 'isupper',\n",
       " 'join',\n",
       " 'ljust',\n",
       " 'lower',\n",
       " 'lstrip',\n",
       " 'maketrans',\n",
       " 'partition',\n",
       " 'removeprefix',\n",
       " 'removesuffix',\n",
       " 'replace',\n",
       " 'rfind',\n",
       " 'rindex',\n",
       " 'rjust',\n",
       " 'rpartition',\n",
       " 'rsplit',\n",
       " 'rstrip',\n",
       " 'split',\n",
       " 'splitlines',\n",
       " 'startswith',\n",
       " 'strip',\n",
       " 'swapcase',\n",
       " 'title',\n",
       " 'translate',\n",
       " 'upper',\n",
       " 'zfill']"
      ]
     },
     "execution_count": 43,
     "metadata": {},
     "output_type": "execute_result"
    }
   ],
   "source": [
    "# check all operation for string\n",
    "dir(s1)\n"
   ]
  },
  {
   "cell_type": "markdown",
   "metadata": {},
   "source": [
    "## 2.4 Lists <a id=\"section4\"/>\n",
    "In Python, lists are the most flexible ordered built-in collection object type.\n",
    "```python\n",
    "    L = [1, 2, 3, 5] # a list example\n",
    "```\n",
    "#### 1. Major properties :\n",
    "(1) Ordered collections of arbitrary objects: a left-to-right positional ordering of the items.\n",
    "\n",
    "(2) Access by offset; fetch an item by indexing the list on the object's offset\n",
    "\n",
    "(3) Variable length: can grow and shrink in place\n",
    "\n",
    "(4) **Mutable**\n",
    "\n",
    "(5) Lists are arrays (in standard Python interpreter)\n",
    "\n",
    "#### 2. List Operations\n",
    "\n",
    "(1) length: len(L)\n",
    "\n",
    "(2) concatenation: +, L.extend(another list)\n",
    "\n",
    "(3) repetition: *\n",
    "\n",
    "(4) membership: 1 in L\n",
    " \n",
    "(5) deletion: del L[0] or L[0] = []\n",
    "\n",
    "(6) insertion\n",
    "\n",
    "(7) replacement\n",
    "\n",
    "(8) iteration and comprehensions\n",
    "\n",
    "(9) Matrix"
   ]
  },
  {
   "cell_type": "code",
   "execution_count": 61,
   "metadata": {},
   "outputs": [
    {
     "name": "stdout",
     "output_type": "stream",
     "text": [
      "[1, 2, 3, 4, '5']\n"
     ]
    }
   ],
   "source": [
    "#(1) Ordered collections of arbitrary objects: a left-to-right positional ordering of the items.\n",
    "l1 = [1,2,3,4,\"5\"]\n",
    "print(l1)\n"
   ]
  },
  {
   "cell_type": "code",
   "execution_count": 63,
   "metadata": {},
   "outputs": [
    {
     "data": {
      "text/plain": [
       "[1, 2, 3, 4, 5, 6, 7, 8, 9, 10]"
      ]
     },
     "execution_count": 63,
     "metadata": {},
     "output_type": "execute_result"
    }
   ],
   "source": [
    "# extra\n",
    "#create a list of values 1-10\n",
    "list(range(1,11))\n"
   ]
  },
  {
   "cell_type": "code",
   "execution_count": 70,
   "metadata": {},
   "outputs": [
    {
     "data": {
      "text/plain": [
       "'str'"
      ]
     },
     "execution_count": 70,
     "metadata": {},
     "output_type": "execute_result"
    }
   ],
   "source": [
    "#(2) Access by offset; fetch an item by indexing the list on the object's offset\n",
    "#index: L[i] for 1d, L[i][j] for 2d\n",
    "L = [1,2,3, 'str', [2,3]]\n",
    "L[3]"
   ]
  },
  {
   "cell_type": "code",
   "execution_count": 76,
   "metadata": {},
   "outputs": [
    {
     "name": "stdout",
     "output_type": "stream",
     "text": [
      "[4, 2, 0, 6, 9]\n"
     ]
    }
   ],
   "source": [
    "#(3) Variable length: can grow and shrink in place\n",
    "L = [4,2,0]\n",
    "L = L + [6, 9]\n",
    "print(L)"
   ]
  },
  {
   "cell_type": "code",
   "execution_count": 80,
   "metadata": {},
   "outputs": [
    {
     "name": "stdout",
     "output_type": "stream",
     "text": [
      "[4, 2, 6, 9]\n"
     ]
    }
   ],
   "source": [
    "#(4) Mutable\n",
    "\n",
    "\n",
    "#shrink\n",
    "L = [4,2,0]\n",
    "L = L + [6, 9]\n",
    "\n",
    "L.remove(0)\n",
    "print(L)"
   ]
  },
  {
   "cell_type": "code",
   "execution_count": 17,
   "metadata": {},
   "outputs": [],
   "source": [
    "#(5) -(7)\n"
   ]
  },
  {
   "cell_type": "code",
   "execution_count": 18,
   "metadata": {},
   "outputs": [],
   "source": [
    "# (8) \n",
    "#List iteration and comprehensions\n",
    "\n",
    "\n",
    "# comprehensions build a new list by applying an expression\n",
    "# i**2\n"
   ]
  },
  {
   "cell_type": "markdown",
   "metadata": {},
   "source": [
    "#### Tips"
   ]
  },
  {
   "cell_type": "code",
   "execution_count": 2,
   "metadata": {},
   "outputs": [
    {
     "name": "stdout",
     "output_type": "stream",
     "text": [
      "L is:  [1, 2, 3.5] L1 is: [1, 2, 3.5]\n",
      "L is:  [-1, 2, 3.5] L1 is: [-1, 2, 3.5]\n"
     ]
    }
   ],
   "source": [
    "#practice 1\n",
    "L = [1, 2, 3.5]\n",
    "L1 = L\n",
    "print(\"L is: \", L, \"L1 is:\", L1)\n",
    "\n",
    "L1[0] = -1\n",
    "print(\"L is: \", L, \"L1 is:\", L1)"
   ]
  },
  {
   "cell_type": "code",
   "execution_count": 4,
   "metadata": {},
   "outputs": [
    {
     "name": "stdout",
     "output_type": "stream",
     "text": [
      "L is:  [1, 2, 3.5] L1 is: [1, 2, 3.5]\n",
      "L is:  [1, 2, 3.5] L1 is: [-1, 2, 3.5]\n"
     ]
    }
   ],
   "source": [
    "#practice 2 \n",
    "L = [1, 2, 3.5]\n",
    "L1 = L.copy() # deep copy\n",
    "print(\"L is: \", L, \"L1 is:\", L1)\n",
    "\n",
    "L1[0] = -1\n",
    "print(\"L is: \", L, \"L1 is:\", L1)\n",
    "#TestChange"
   ]
  },
  {
   "cell_type": "code",
   "execution_count": 5,
   "metadata": {},
   "outputs": [
    {
     "name": "stdout",
     "output_type": "stream",
     "text": [
      "L is:  [1, 2, 3.5] L1 is: [1, 2, 3.5]\n",
      "L is:  [1, 2, 3.5] L1 is: [-1, 2, 3.5]\n"
     ]
    }
   ],
   "source": [
    "# extra practice 3 \n",
    "L = [1, 2, 3.5]\n",
    "L1 = L[:] # slicing will create a new list\n",
    "print(\"L is: \", L, \"L1 is:\", L1)\n",
    "\n",
    "L1[0] = -1\n",
    "print(\"L is: \", L, \"L1 is:\", L1)"
   ]
  },
  {
   "cell_type": "code",
   "execution_count": null,
   "metadata": {},
   "outputs": [],
   "source": [
    "# extra practice 4 \n",
    "L = [1, 2, 3.5]\n",
    "L1 = list(L) # list() constructor will alsio create a new list\n",
    "print(\"L is: \", L, \"L1 is:\", L1)\n",
    "\n",
    "L1[0] = -1\n",
    "print(\"L is: \", L, \"L1 is:\", L1)"
   ]
  },
  {
   "cell_type": "markdown",
   "metadata": {},
   "source": [
    "(2) Memory management in python\n",
    "\n",
    "     Stack              private heap\n",
    "List name(references)-->List content\n",
    "\n",
    "L1 = L only copies refences, and L and L1 point to the same contend on the heap\n",
    "\n",
    "Tip: use 'is' operator to test if two objects are physically the same"
   ]
  },
  {
   "cell_type": "markdown",
   "metadata": {},
   "source": [
    "#### For larger datasets, we may need to use numPy."
   ]
  },
  {
   "cell_type": "markdown",
   "metadata": {},
   "source": [
    "## 2.5 Dictionary creation and operations <a id=\"section5\"/>\n",
    "\n",
    "Flexible unordered built-in collection object type. Items are sorted and fetched by *key* instead of by positional offset.\n",
    "```python\n",
    "    D = {'name': 'Tim', 'age': 22}\n",
    "    print(D)\n",
    "\n",
    "    print(D['name']) # (1) accessed by key\n",
    "    D['age'] = 23 # (4) mutable\n",
    "    print(D)\n",
    "```\n",
    "#### Main properties\n",
    "(1) accessed by key\n",
    "\n",
    "(2) unsorted collections of arbitrary objects\n",
    "\n",
    "(3) variable-length\n",
    "\n",
    "(4) **mutable**\n",
    "\n",
    "(5) implemented as hash tables\n",
    "\n",
    "#### Dict operations\n",
    "(1) length,: len()\n",
    "\n",
    "(2) membership: in\n",
    "\n",
    "(3) get keys: list(D.keys())\n",
    "\n",
    "(4) deletion: D.pop(key), del D[key]\n",
    "\n",
    "(5) comprehensions"
   ]
  },
  {
   "cell_type": "code",
   "execution_count": null,
   "metadata": {},
   "outputs": [],
   "source": []
  },
  {
   "cell_type": "code",
   "execution_count": 19,
   "metadata": {},
   "outputs": [],
   "source": [
    "# (5) comprehensions\n"
   ]
  },
  {
   "cell_type": "markdown",
   "metadata": {},
   "source": [
    "## 2.6 Tuples <a id=\"section6\" />\n",
    ">A tuple is a collection of objects which is **ordered and immutable**, and it is commonly written as a series of items in **parentheses** ()\n",
    "\n",
    "#### Main properties\n",
    "(1) Ordered collections of arbitrary objects: a left-to-right positional ordering of the items.\n",
    "\n",
    "(2) Access by offset; fetch an item by indexing the list on the object's offset\n",
    "\n",
    "(3) fixed-length\n",
    "\n",
    "(4) **immutable**\n",
    "\n",
    "(5) tuples are arrays"
   ]
  },
  {
   "cell_type": "code",
   "execution_count": 6,
   "metadata": {},
   "outputs": [],
   "source": [
    "# Creating a tuple\n",
    "\n"
   ]
  },
  {
   "cell_type": "code",
   "execution_count": 20,
   "metadata": {},
   "outputs": [],
   "source": [
    "# Show the created tuple\n"
   ]
  },
  {
   "cell_type": "code",
   "execution_count": 21,
   "metadata": {},
   "outputs": [],
   "source": [
    "# Check the length of the tuple using len(), just like a list\n"
   ]
  },
  {
   "cell_type": "code",
   "execution_count": 22,
   "metadata": {},
   "outputs": [],
   "source": [
    "# We can also mix object types: e.g., strings, integer numbers, floating-point numbers\n",
    "\n"
   ]
  },
  {
   "cell_type": "code",
   "execution_count": 23,
   "metadata": {},
   "outputs": [],
   "source": [
    "# Tuples, lists or dictionaries can be nested into other tuples\n"
   ]
  },
  {
   "cell_type": "code",
   "execution_count": 24,
   "metadata": {},
   "outputs": [],
   "source": [
    "# An empty tuple\n"
   ]
  },
  {
   "cell_type": "code",
   "execution_count": 25,
   "metadata": {},
   "outputs": [],
   "source": [
    "# A 1-item tuple\n"
   ]
  },
  {
   "cell_type": "code",
   "execution_count": 26,
   "metadata": {},
   "outputs": [],
   "source": [
    "#The parentheses () can be omitted in the syntax, and tuples can be created just by listing items separated with commas\n"
   ]
  },
  {
   "cell_type": "code",
   "execution_count": null,
   "metadata": {},
   "outputs": [],
   "source": [
    "# Use indexing just like in lists and strings\n"
   ]
  },
  {
   "cell_type": "code",
   "execution_count": null,
   "metadata": {},
   "outputs": [],
   "source": [
    "# Slicing\n"
   ]
  },
  {
   "cell_type": "code",
   "execution_count": 27,
   "metadata": {},
   "outputs": [],
   "source": [
    "# Concatenation\n"
   ]
  },
  {
   "cell_type": "code",
   "execution_count": 28,
   "metadata": {},
   "outputs": [],
   "source": [
    "# Repetition\n"
   ]
  },
  {
   "cell_type": "code",
   "execution_count": 29,
   "metadata": {},
   "outputs": [],
   "source": [
    "# Immutability\n",
    "# If we try to change the first element, we will get an error message\n"
   ]
  },
  {
   "cell_type": "code",
   "execution_count": null,
   "metadata": {},
   "outputs": [],
   "source": []
  },
  {
   "cell_type": "markdown",
   "metadata": {},
   "source": [
    "## 2.7 Sets <a id=\"section6\" />\n",
    ">  A ***set*** is a collection of unique objects which is unordered and immutable, and are constructed by using the set() function.\n",
    "\n",
    "Sets support operations corresponding to mathematical set theory (intersection, union, etc.). By definition, an item appears only once in a set, no matter how many times it is added. \n",
    "\n",
    "Because sets are collections of objects, they share some behavior with lists and dictionaries. For example, sets are iterable, can grow and shrink on demand, and may contain a variety of object types. \n",
    "\n",
    "However, since sets are unordered and do not map keys to values, they are neither a sequence or mapping type.\n",
    "\n",
    "Sets have a variety of applications, especially in numeric and database-focused work."
   ]
  },
  {
   "cell_type": "code",
   "execution_count": 25,
   "metadata": {},
   "outputs": [
    {
     "name": "stdout",
     "output_type": "stream",
     "text": [
      "{'e', 'c', 'a', 'b', 'd'} {'z', 'y', 'x', 'b', 'd'}\n"
     ]
    },
    {
     "data": {
      "text/plain": [
       "{'a', 'c', 'e'}"
      ]
     },
     "execution_count": 25,
     "metadata": {},
     "output_type": "execute_result"
    }
   ],
   "source": [
    "x = set('abcde')\n",
    "y = set('bdxyz')\n",
    "\n",
    "print(x, y)\n",
    "# Difference\n",
    "x - y"
   ]
  },
  {
   "cell_type": "code",
   "execution_count": 26,
   "metadata": {},
   "outputs": [
    {
     "data": {
      "text/plain": [
       "{'a', 'b', 'c', 'd', 'e', 'x', 'y', 'z'}"
      ]
     },
     "execution_count": 26,
     "metadata": {},
     "output_type": "execute_result"
    }
   ],
   "source": [
    "# Union\n",
    "x | y"
   ]
  },
  {
   "cell_type": "code",
   "execution_count": 27,
   "metadata": {},
   "outputs": [
    {
     "data": {
      "text/plain": [
       "{'b', 'd'}"
      ]
     },
     "execution_count": 27,
     "metadata": {},
     "output_type": "execute_result"
    }
   ],
   "source": [
    "# Intersection\n",
    "x & y"
   ]
  },
  {
   "cell_type": "code",
   "execution_count": 29,
   "metadata": {},
   "outputs": [
    {
     "data": {
      "text/plain": [
       "True"
      ]
     },
     "execution_count": 29,
     "metadata": {},
     "output_type": "execute_result"
    }
   ],
   "source": [
    "# Superset, subset\n",
    "x1 = set('abc')\n",
    "y1 = set('abcd')\n",
    "\n",
    "x1<y1 # if x is the subset of y"
   ]
  },
  {
   "cell_type": "code",
   "execution_count": 30,
   "metadata": {},
   "outputs": [
    {
     "data": {
      "text/plain": [
       "True"
      ]
     },
     "execution_count": 30,
     "metadata": {},
     "output_type": "execute_result"
    }
   ],
   "source": [
    "# Membership of a set\n",
    "'a' in x1"
   ]
  },
  {
   "cell_type": "code",
   "execution_count": 2,
   "metadata": {},
   "outputs": [
    {
     "name": "stdout",
     "output_type": "stream",
     "text": [
      "{1}\n",
      "{1, 2}\n",
      "{1, 2}\n"
     ]
    }
   ],
   "source": [
    "z = set()\n",
    "# Add to set with the add() method\n",
    "z.add(1)\n",
    "print(z)\n",
    "# Add a different element\n",
    "z.add(2)\n",
    "print(z)\n",
    "# Try to add the same element\n",
    "z.add(1)\n",
    "print(z)"
   ]
  },
  {
   "cell_type": "code",
   "execution_count": 4,
   "metadata": {},
   "outputs": [
    {
     "data": {
      "text/plain": [
       "{2}"
      ]
     },
     "execution_count": 4,
     "metadata": {},
     "output_type": "execute_result"
    }
   ],
   "source": [
    "# Delete one item\n",
    "z.remove(1) \n",
    "z"
   ]
  },
  {
   "cell_type": "code",
   "execution_count": null,
   "metadata": {},
   "outputs": [],
   "source": []
  }
 ],
 "metadata": {
  "kernelspec": {
   "display_name": "MachineLearning",
   "language": "python",
   "name": "python3"
  },
  "language_info": {
   "codemirror_mode": {
    "name": "ipython",
    "version": 3
   },
   "file_extension": ".py",
   "mimetype": "text/x-python",
   "name": "python",
   "nbconvert_exporter": "python",
   "pygments_lexer": "ipython3",
   "version": "3.9.13"
  },
  "vscode": {
   "interpreter": {
    "hash": "4d2448a482dac3f3bf9eb9b52540334392b6166e25e2657828442f504bfc1fc9"
   }
  }
 },
 "nbformat": 4,
 "nbformat_minor": 4
}

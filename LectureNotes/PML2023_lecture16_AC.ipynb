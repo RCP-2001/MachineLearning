{
 "cells": [
  {
   "cell_type": "markdown",
   "id": "2b7073b9",
   "metadata": {},
   "source": [
    "## Lecture 16: Build Neural Networks Using Keras"
   ]
  },
  {
   "cell_type": "markdown",
   "id": "3c8c0ec8",
   "metadata": {},
   "source": [
    "### Keras\n",
    "- \"Keras is a software library that provides Python APIs for artificial neural networks. Keras acts as an interface for the TensorFlow library\"\n",
    "- Learn Keras: https://keras.io/about/\n",
    "- Install Keras\n",
    "        We will need to have the TensorFlow package installed to use Kearas. https://www.tensorflow.org/install\n",
    "        \n",
    "        "
   ]
  },
  {
   "cell_type": "code",
   "execution_count": null,
   "id": "c8bf8d02",
   "metadata": {},
   "outputs": [],
   "source": []
  },
  {
   "cell_type": "code",
   "execution_count": 1,
   "id": "cbcd29ad",
   "metadata": {},
   "outputs": [
    {
     "data": {
      "text/plain": [
       "'2.8.0'"
      ]
     },
     "execution_count": 1,
     "metadata": {},
     "output_type": "execute_result"
    }
   ],
   "source": [
    "from tensorflow import keras\n",
    "keras.__version__"
   ]
  },
  {
   "cell_type": "markdown",
   "id": "10dab168",
   "metadata": {},
   "source": [
    "### Task: Breast cancer classification using NNs\n",
    "- Prepare the dataset\n",
    "    - load the dataset\n",
    "    - prepare the training and test sets\n",
    "- Build a NN using Keras\n",
    "- Train the NN model\n",
    "- Evaluate the NN model"
   ]
  },
  {
   "cell_type": "markdown",
   "id": "8fa281be",
   "metadata": {},
   "source": [
    "#### Load the dataset"
   ]
  },
  {
   "cell_type": "code",
   "execution_count": 2,
   "id": "3e962c76",
   "metadata": {
    "scrolled": true
   },
   "outputs": [
    {
     "name": "stdout",
     "output_type": "stream",
     "text": [
      "['DESCR', 'data', 'data_module', 'feature_names', 'filename', 'frame', 'target', 'target_names']\n",
      ".. _breast_cancer_dataset:\n",
      "\n",
      "Breast cancer wisconsin (diagnostic) dataset\n",
      "--------------------------------------------\n",
      "\n",
      "**Data Set Characteristics:**\n",
      "\n",
      "    :Number of Instances: 569\n",
      "\n",
      "    :Number of Attributes: 30 numeric, predictive attributes and the class\n",
      "\n",
      "    :Attribute Information:\n",
      "        - radius (mean of distances from center to points on the perimeter)\n",
      "        - texture (standard deviation of gray-scale values)\n",
      "        - perimeter\n",
      "        - area\n",
      "        - smoothness (local variation in radius lengths)\n",
      "        - compactness (perimeter^2 / area - 1.0)\n",
      "        - concavity (severity of concave portions of the contour)\n",
      "        - concave points (number of concave portions of the contour)\n",
      "        - symmetry\n",
      "        - fractal dimension (\"coastline approximation\" - 1)\n",
      "\n",
      "        The mean, standard error, and \"worst\" or largest (mean of the three\n",
      "        worst/largest values) of these features were computed for each image,\n",
      "        resulting in 30 features.  For instance, field 0 is Mean Radius, field\n",
      "        10 is Radius SE, field 20 is Worst Radius.\n",
      "\n",
      "        - class:\n",
      "                - WDBC-Malignant\n",
      "                - WDBC-Benign\n",
      "\n",
      "    :Summary Statistics:\n",
      "\n",
      "    ===================================== ====== ======\n",
      "                                           Min    Max\n",
      "    ===================================== ====== ======\n",
      "    radius (mean):                        6.981  28.11\n",
      "    texture (mean):                       9.71   39.28\n",
      "    perimeter (mean):                     43.79  188.5\n",
      "    area (mean):                          143.5  2501.0\n",
      "    smoothness (mean):                    0.053  0.163\n",
      "    compactness (mean):                   0.019  0.345\n",
      "    concavity (mean):                     0.0    0.427\n",
      "    concave points (mean):                0.0    0.201\n",
      "    symmetry (mean):                      0.106  0.304\n",
      "    fractal dimension (mean):             0.05   0.097\n",
      "    radius (standard error):              0.112  2.873\n",
      "    texture (standard error):             0.36   4.885\n",
      "    perimeter (standard error):           0.757  21.98\n",
      "    area (standard error):                6.802  542.2\n",
      "    smoothness (standard error):          0.002  0.031\n",
      "    compactness (standard error):         0.002  0.135\n",
      "    concavity (standard error):           0.0    0.396\n",
      "    concave points (standard error):      0.0    0.053\n",
      "    symmetry (standard error):            0.008  0.079\n",
      "    fractal dimension (standard error):   0.001  0.03\n",
      "    radius (worst):                       7.93   36.04\n",
      "    texture (worst):                      12.02  49.54\n",
      "    perimeter (worst):                    50.41  251.2\n",
      "    area (worst):                         185.2  4254.0\n",
      "    smoothness (worst):                   0.071  0.223\n",
      "    compactness (worst):                  0.027  1.058\n",
      "    concavity (worst):                    0.0    1.252\n",
      "    concave points (worst):               0.0    0.291\n",
      "    symmetry (worst):                     0.156  0.664\n",
      "    fractal dimension (worst):            0.055  0.208\n",
      "    ===================================== ====== ======\n",
      "\n",
      "    :Missing Attribute Values: None\n",
      "\n",
      "    :Class Distribution: 212 - Malignant, 357 - Benign\n",
      "\n",
      "    :Creator:  Dr. William H. Wolberg, W. Nick Street, Olvi L. Mangasarian\n",
      "\n",
      "    :Donor: Nick Street\n",
      "\n",
      "    :Date: November, 1995\n",
      "\n",
      "This is a copy of UCI ML Breast Cancer Wisconsin (Diagnostic) datasets.\n",
      "https://goo.gl/U2Uwz2\n",
      "\n",
      "Features are computed from a digitized image of a fine needle\n",
      "aspirate (FNA) of a breast mass.  They describe\n",
      "characteristics of the cell nuclei present in the image.\n",
      "\n",
      "Separating plane described above was obtained using\n",
      "Multisurface Method-Tree (MSM-T) [K. P. Bennett, \"Decision Tree\n",
      "Construction Via Linear Programming.\" Proceedings of the 4th\n",
      "Midwest Artificial Intelligence and Cognitive Science Society,\n",
      "pp. 97-101, 1992], a classification method which uses linear\n",
      "programming to construct a decision tree.  Relevant features\n",
      "were selected using an exhaustive search in the space of 1-4\n",
      "features and 1-3 separating planes.\n",
      "\n",
      "The actual linear program used to obtain the separating plane\n",
      "in the 3-dimensional space is that described in:\n",
      "[K. P. Bennett and O. L. Mangasarian: \"Robust Linear\n",
      "Programming Discrimination of Two Linearly Inseparable Sets\",\n",
      "Optimization Methods and Software 1, 1992, 23-34].\n",
      "\n",
      "This database is also available through the UW CS ftp server:\n",
      "\n",
      "ftp ftp.cs.wisc.edu\n",
      "cd math-prog/cpo-dataset/machine-learn/WDBC/\n",
      "\n",
      ".. topic:: References\n",
      "\n",
      "   - W.N. Street, W.H. Wolberg and O.L. Mangasarian. Nuclear feature extraction \n",
      "     for breast tumor diagnosis. IS&T/SPIE 1993 International Symposium on \n",
      "     Electronic Imaging: Science and Technology, volume 1905, pages 861-870,\n",
      "     San Jose, CA, 1993.\n",
      "   - O.L. Mangasarian, W.N. Street and W.H. Wolberg. Breast cancer diagnosis and \n",
      "     prognosis via linear programming. Operations Research, 43(4), pages 570-577, \n",
      "     July-August 1995.\n",
      "   - W.H. Wolberg, W.N. Street, and O.L. Mangasarian. Machine learning techniques\n",
      "     to diagnose breast cancer from fine-needle aspirates. Cancer Letters 77 (1994) \n",
      "     163-171.\n"
     ]
    }
   ],
   "source": [
    "import sklearn.datasets as ds\n",
    "breast_ds = ds.load_breast_cancer()\n",
    "print(dir(breast_ds))\n",
    "print(breast_ds['DESCR'])"
   ]
  },
  {
   "cell_type": "markdown",
   "id": "f4a08550",
   "metadata": {},
   "source": [
    "#### Prepare the training and test set"
   ]
  },
  {
   "cell_type": "code",
   "execution_count": 3,
   "id": "531ab171",
   "metadata": {},
   "outputs": [
    {
     "name": "stdout",
     "output_type": "stream",
     "text": [
      "size of the feature vectors: (569, 30)\n",
      "size of y: (569,)\n",
      "size of the training set: (455,)\n",
      "size of the test set: (114,)\n"
     ]
    }
   ],
   "source": [
    "from sklearn.model_selection import train_test_split\n",
    "\n",
    "X = breast_ds.data\n",
    "y = 1 - breast_ds.target # cancer 1; non-cancer 0\n",
    "print('size of the feature vectors:', X.shape)\n",
    "print('size of y:', y.shape)\n",
    "\n",
    "X_train, X_test, y_train, y_test = train_test_split(X, y, test_size = 0.2)\n",
    "print('size of the training set:', y_train.shape)\n",
    "print('size of the test set:', y_test.shape)"
   ]
  },
  {
   "cell_type": "markdown",
   "id": "73a43d5e",
   "metadata": {},
   "source": [
    "#### Create a NN model using Keras Sequential model\n",
    "- Design a NN\n",
    "    1. Input layer\n",
    "        - how do we determine the number of input nodes?\n",
    "        - we do not need to define it explicitly\n",
    "\n",
    "    2. Hidden layers\n",
    "        - the number of hidden layers\n",
    "        - the number of hidden nodes/units for each layer\n",
    "        - activation function\n",
    "\n",
    "    3. Output layer\n",
    "        - how many output nodes do we need for this task?\n",
    "        - activation function\n",
    "\n",
    "    4. Choose the optimizer(optimization function) and loss/cost function\n",
    "        - optimizer: Stachastic Gradient Descent (SGD)\n",
    "        - cost function: Cross-entropy\n",
    "        \n",
    "        \n",
    " - Create a NN in two different ways"
   ]
  },
  {
   "cell_type": "code",
   "execution_count": 4,
   "id": "0f287ad1",
   "metadata": {},
   "outputs": [
    {
     "name": "stdout",
     "output_type": "stream",
     "text": [
      "Model: \"sequential\"\n",
      "_________________________________________________________________\n",
      " Layer (type)                Output Shape              Param #   \n",
      "=================================================================\n",
      " dense (Dense)               (None, 5)                 155       \n",
      "                                                                 \n",
      " dense_1 (Dense)             (None, 5)                 30        \n",
      "                                                                 \n",
      " dense_2 (Dense)             (None, 2)                 12        \n",
      "                                                                 \n",
      "=================================================================\n",
      "Total params: 197\n",
      "Trainable params: 197\n",
      "Non-trainable params: 0\n",
      "_________________________________________________________________\n"
     ]
    },
    {
     "name": "stderr",
     "output_type": "stream",
     "text": [
      "2023-03-29 15:32:27.046239: I tensorflow/core/platform/cpu_feature_guard.cc:151] This TensorFlow binary is optimized with oneAPI Deep Neural Network Library (oneDNN) to use the following CPU instructions in performance-critical operations:  SSE4.1 SSE4.2 AVX AVX2 FMA\n",
      "To enable them in other operations, rebuild TensorFlow with the appropriate compiler flags.\n",
      "2023-03-29 15:32:27.047743: I tensorflow/core/common_runtime/process_util.cc:146] Creating new thread pool with default inter op setting: 2. Tune using inter_op_parallelism_threads for best performance.\n"
     ]
    }
   ],
   "source": [
    "# 1) create a NN by adding layers to an empty sequential model\n",
    "model1 = keras.models.Sequential() # an empty model\n",
    "model1.add(keras.layers.Dense(units = 5, # the number of nodes\n",
    "                              input_dim=30,\n",
    "                              activation = 'relu')) #hidden layer 1\n",
    "\n",
    "model1.add(keras.layers.Dense(units = 5,     \n",
    "                              input_dim=5,\n",
    "                              activation = 'relu'))# hidden layer 2\n",
    "\n",
    "model1.add(keras.layers.Dense(units = 2,     \n",
    "                              activation='softmax')) #output  layer\n",
    "\n",
    "sgd_optimizer = keras.optimizers.SGD(learning_rate=0.00001) # optimizer\n",
    "model1.compile(optimizer=sgd_optimizer, loss='categorical_crossentropy', metrics=['accuracy'])\n",
    "model1.summary()"
   ]
  },
  {
   "cell_type": "code",
   "execution_count": 5,
   "id": "c48dc1c2",
   "metadata": {},
   "outputs": [
    {
     "name": "stdout",
     "output_type": "stream",
     "text": [
      "Model: \"sequential_1\"\n",
      "_________________________________________________________________\n",
      " Layer (type)                Output Shape              Param #   \n",
      "=================================================================\n",
      " dense_3 (Dense)             (None, 500)               15500     \n",
      "                                                                 \n",
      " dense_4 (Dense)             (None, 2)                 1002      \n",
      "                                                                 \n",
      "=================================================================\n",
      "Total params: 16,502\n",
      "Trainable params: 16,502\n",
      "Non-trainable params: 0\n",
      "_________________________________________________________________\n"
     ]
    }
   ],
   "source": [
    "# 2) create a NN using a list of layers\n",
    "model1 = keras.models.Sequential(\n",
    "        [\n",
    "            keras.layers.InputLayer(input_shape=(30, )), # input layer\n",
    "            keras.layers.Dense(units = 500, activation = 'sigmoid'), # hidden layer\n",
    "            keras.layers.Dense(units=2, activation='softmax') # ouput layer\n",
    "        ] # list of layers\n",
    ")\n",
    "sgd_optimizer = keras.optimizers.SGD(learning_rate =0.0001)\n",
    "model1.compile(optimizer=sgd_optimizer, loss='categorical_crossentropy', metrics=['accuracy'])\n",
    "model1.summary()"
   ]
  },
  {
   "cell_type": "markdown",
   "id": "37352e29",
   "metadata": {},
   "source": [
    "#### Train the model\n",
    "- Prepare the onehot vectors for the training targets. Onehot-vector encoding using keras.utils.to_categorical() function\n",
    "![onehot](onehot.png)\n",
    "- Train the model by using the fit() function\n",
    "    - input arguments of the fit function:\n",
    "        - batch_size: 4, 8, 16, 32, 64,.... Training set is splitted into small batches, and one batch will be feeded into the model one time. \n",
    "        - epochs (the number of training rounds using the whole training set): 100, 200, 300, ...\n",
    "        - validation_split: 0.2. Validation set is applied to check model performance and avoid overfitting\n",
    "        - verbose: 0, 1. Output intermediate training results\n",
    "        \n",
    "    - return argument:\n",
    "        - h.history"
   ]
  },
  {
   "cell_type": "code",
   "execution_count": 9,
   "id": "c1e2f68d",
   "metadata": {
    "scrolled": true
   },
   "outputs": [
    {
     "ename": "TypeError",
     "evalue": "'tuple' object is not callable",
     "output_type": "error",
     "traceback": [
      "\u001b[0;31m---------------------------------------------------------------------------\u001b[0m",
      "\u001b[0;31mTypeError\u001b[0m                                 Traceback (most recent call last)",
      "Cell \u001b[0;32mIn[9], line 4\u001b[0m\n\u001b[1;32m      1\u001b[0m \u001b[39m# prepare one-hot vectors\u001b[39;00m\n\u001b[1;32m      2\u001b[0m y_train_onehot \u001b[39m=\u001b[39m keras\u001b[39m.\u001b[39mutils\u001b[39m.\u001b[39mto_categorical(y_train)\n\u001b[0;32m----> 4\u001b[0m \u001b[39mprint\u001b[39m(X_train\u001b[39m.\u001b[39;49mshape())\n\u001b[1;32m      6\u001b[0m \u001b[39m# train the model\u001b[39;00m\n\u001b[1;32m      7\u001b[0m history \u001b[39m=\u001b[39m model1\u001b[39m.\u001b[39mfit(X_train, y_train_onehot, \n\u001b[1;32m      8\u001b[0m            batch_size \u001b[39m=\u001b[39m \u001b[39m16\u001b[39m,\n\u001b[1;32m      9\u001b[0m            epochs \u001b[39m=\u001b[39m \u001b[39m100\u001b[39m,\n\u001b[1;32m     10\u001b[0m            verbose \u001b[39m=\u001b[39m \u001b[39m2\u001b[39m)\n",
      "\u001b[0;31mTypeError\u001b[0m: 'tuple' object is not callable"
     ]
    }
   ],
   "source": [
    "# prepare one-hot vectors\n",
    "y_train_onehot = keras.utils.to_categorical(y_train)\n",
    "\n",
    "print(X_train.shape)\n",
    "\n",
    "# train the model\n",
    "history = model1.fit(X_train, y_train_onehot, \n",
    "           batch_size = 16,\n",
    "           epochs = 100,\n",
    "           verbose = 2)\n",
    "\n",
    "#After class practice: train the model using different arguments"
   ]
  },
  {
   "cell_type": "code",
   "execution_count": 7,
   "id": "c3cfe0b4",
   "metadata": {},
   "outputs": [
    {
     "name": "stdout",
     "output_type": "stream",
     "text": [
      "training acc is 0.8901098901098901\n",
      "test acc is 0.9298245614035088\n"
     ]
    }
   ],
   "source": [
    "#  Evaluation \n",
    "import numpy as np\n",
    "\n",
    "y_train_pred = np.argmax(model1.predict(X_train), axis=-1)\n",
    "train_acc = sum(y_train == y_train_pred)/y_train.shape[0]\n",
    "\n",
    "y_test_pred = np.argmax(model1.predict(X_test), axis=-1)\n",
    "test_acc = sum(y_test == y_test_pred)/y_test.shape[0]\n",
    "\n",
    "print('training acc is', train_acc)\n",
    "print('test acc is', test_acc)"
   ]
  },
  {
   "cell_type": "code",
   "execution_count": 8,
   "id": "e156806e",
   "metadata": {},
   "outputs": [],
   "source": [
    "#after the class, please calculate the recall rate of the trained NN\n",
    "\n"
   ]
  }
 ],
 "metadata": {
  "kernelspec": {
   "display_name": "base",
   "language": "python",
   "name": "python3"
  },
  "language_info": {
   "codemirror_mode": {
    "name": "ipython",
    "version": 3
   },
   "file_extension": ".py",
   "mimetype": "text/x-python",
   "name": "python",
   "nbconvert_exporter": "python",
   "pygments_lexer": "ipython3",
   "version": "3.9.13"
  },
  "vscode": {
   "interpreter": {
    "hash": "432a9e8390958e78be81a9bd4193cff00d6df55b4f51eed9034ca8e02e01b86a"
   }
  }
 },
 "nbformat": 4,
 "nbformat_minor": 5
}

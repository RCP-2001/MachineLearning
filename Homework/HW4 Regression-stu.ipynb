{
 "cells": [
  {
   "cell_type": "markdown",
   "id": "29a170c7",
   "metadata": {},
   "source": [
    "### HW 4: Build and evaluate regression models"
   ]
  },
  {
   "cell_type": "markdown",
   "id": "3285954a",
   "metadata": {},
   "source": [
    "https://scikit-learn.org/stable/modules/generated/sklearn.datasets.fetch_california_housing.html#sklearn.datasets.fetch_california_housing\n",
    "    \n",
    "    "
   ]
  },
  {
   "cell_type": "code",
   "execution_count": 2,
   "id": "44d1d30d",
   "metadata": {},
   "outputs": [],
   "source": [
    "import numpy as np\n",
    "import matplotlib.pyplot as plt\n",
    "import pandas as pd\n",
    "from sklearn.model_selection import train_test_split\n",
    "from sklearn.datasets import fetch_california_housing"
   ]
  },
  {
   "cell_type": "code",
   "execution_count": 3,
   "id": "9add5049",
   "metadata": {},
   "outputs": [],
   "source": [
    "from sklearn.metrics import mean_squared_error as mse, r2_score as r_2\n",
    "\n",
    "# Follow this link to find more metrics for regression:\n",
    "# https://scikit-learn.org/stable/modules/classes.html#sklearn-metrics-metrics\n",
    "def regression_metrics(y_train, y_train_pred, y_test, y_test_pred):\n",
    "    '''report the mse and r2 scores for both the training and test sets\n",
    "    '''\n",
    "    print('MSE Train: ', round(mse(y_train, y_train_pred), 3))\n",
    "    print('MSE Test: ', round(mse(y_test, y_test_pred), 3))\n",
    "    print('R^2 Train: ', round(r_2(y_train, y_train_pred), 3))\n",
    "    print('R^2 Test: ', round(r_2(y_test, y_test_pred), 3))"
   ]
  },
  {
   "cell_type": "markdown",
   "id": "57678b0e",
   "metadata": {},
   "source": [
    "#### Load the dataset"
   ]
  },
  {
   "cell_type": "code",
   "execution_count": 5,
   "id": "708debe2",
   "metadata": {},
   "outputs": [
    {
     "name": "stdout",
     "output_type": "stream",
     "text": [
      "dataset size: (20640, 8) (20640,)\n",
      "Data in ds ['DESCR', 'data', 'feature_names', 'frame', 'target', 'target_names']\n",
      ".. _california_housing_dataset:\n",
      "\n",
      "California Housing dataset\n",
      "--------------------------\n",
      "\n",
      "**Data Set Characteristics:**\n",
      "\n",
      "    :Number of Instances: 20640\n",
      "\n",
      "    :Number of Attributes: 8 numeric, predictive attributes and the target\n",
      "\n",
      "    :Attribute Information:\n",
      "        - MedInc        median income in block\n",
      "        - HouseAge      median house age in block\n",
      "        - AveRooms      average number of rooms\n",
      "        - AveBedrms     average number of bedrooms\n",
      "        - Population    block population\n",
      "        - AveOccup      average house occupancy\n",
      "        - Latitude      house block latitude\n",
      "        - Longitude     house block longitude\n",
      "\n",
      "    :Missing Attribute Values: None\n",
      "\n",
      "This dataset was obtained from the StatLib repository.\n",
      "http://lib.stat.cmu.edu/datasets/\n",
      "\n",
      "The target variable is the median house value for California districts.\n",
      "\n",
      "This dataset was derived from the 1990 U.S. census, using one row per census\n",
      "block group. A block group is the smallest geographical unit for which the U.S.\n",
      "Census Bureau publishes sample data (a block group typically has a population\n",
      "of 600 to 3,000 people).\n",
      "\n",
      "It can be downloaded/loaded using the\n",
      ":func:`sklearn.datasets.fetch_california_housing` function.\n",
      "\n",
      ".. topic:: References\n",
      "\n",
      "    - Pace, R. Kelley and Ronald Barry, Sparse Spatial Autoregressions,\n",
      "      Statistics and Probability Letters, 33 (1997) 291-297\n",
      "\n"
     ]
    }
   ],
   "source": [
    "#Load the California housing dataset\n",
    "ds = fetch_california_housing()\n",
    "X = ds.data\n",
    "y = ds.target\n",
    "print('dataset size:', X.shape, y.shape)\n",
    "print('Data in ds', dir(ds))\n",
    "print(ds.DESCR)"
   ]
  },
  {
   "cell_type": "code",
   "execution_count": 7,
   "id": "b196efa6",
   "metadata": {},
   "outputs": [
    {
     "name": "stdout",
     "output_type": "stream",
     "text": [
      "training set size: 14448\n",
      "test set size: 6192\n"
     ]
    }
   ],
   "source": [
    "# data split\n",
    "X_train, X_test, y_train, y_test = train_test_split(X, y, test_size = 0.3, random_state = 0)\n",
    "print('training set size:', X_train.shape[0])\n",
    "print('test set size:', X_test.shape[0])"
   ]
  },
  {
   "cell_type": "markdown",
   "id": "c24dcf76",
   "metadata": {},
   "source": [
    "#### 1 Train and evaluate a linear regression model using OLS. 20 points.\n",
    "    1) Train a linear reguression model\n",
    "    2) Evalate the model and print out the RMS and $R^2$ values on the training and test sets\n",
    "    3) What issues can you observe from the results? any possible solutions ?"
   ]
  },
  {
   "cell_type": "code",
   "execution_count": 1,
   "id": "80f38bb7",
   "metadata": {},
   "outputs": [],
   "source": [
    "#OLS: ordinary least squares. \n",
    "from sklearn.linear_model import LinearRegression as LR\n",
    "\n",
    "#1) train. 5 points\n",
    "\n",
    "\n",
    "#2) evaluate. 5 points \n"
   ]
  },
  {
   "cell_type": "markdown",
   "id": "5c3ee161",
   "metadata": {},
   "source": [
    "##### 3) Question: What issues can you observe from the results? any possible solutions?. 10 points\n",
    "\n",
    "Response:\n"
   ]
  },
  {
   "cell_type": "markdown",
   "id": "760b2e49",
   "metadata": {},
   "source": [
    "#### 2 Train and evaluate the decision tree approach? 50 points.\n",
    "\n",
    "    1) Train a decision tree model. Please tune the arguments, 'criterion', 'max_depth', and 'min_samples_leaf', to achieve good performance\n",
    "    2) Print out the depth of the tree, the number of leaves, and the importance of each feature\n",
    "    3) Evalate the model and print out the RMS and  𝑅2  values on the training and test sets\n",
    "    4) Show the tree using tree.export_text() in sklearn\n",
    "    5) Print out the decision path for data sample X_test[0]\n",
    "    6) Test different max_depth values and analyse the results?"
   ]
  },
  {
   "cell_type": "code",
   "execution_count": 4,
   "id": "5d49f351",
   "metadata": {},
   "outputs": [],
   "source": [
    "# Decision tree\n",
    "from sklearn.tree import DecisionTreeRegressor as DTR\n",
    "\n",
    "#1) train. 10 points\n",
    "\n",
    "\n",
    "#2) pirnt out tree attributes: the depth of the tree, \n",
    "#the number of leaves, and the importance of each feature. 10 points\n",
    "\n",
    "\n",
    "#3) evaluate. 5 points\n"
   ]
  },
  {
   "cell_type": "code",
   "execution_count": 5,
   "id": "a79c646e",
   "metadata": {},
   "outputs": [],
   "source": [
    "#4) explore the trained decision tree using export_text(). 5 points\n",
    "from sklearn import tree\n"
   ]
  },
  {
   "cell_type": "code",
   "execution_count": 6,
   "id": "2432b42f",
   "metadata": {},
   "outputs": [
    {
     "ename": "NameError",
     "evalue": "name 'X_test' is not defined",
     "output_type": "error",
     "traceback": [
      "\u001b[1;31m---------------------------------------------------------------------------\u001b[0m",
      "\u001b[1;31mNameError\u001b[0m                                 Traceback (most recent call last)",
      "\u001b[1;32m~\\AppData\\Local\\Temp/ipykernel_12888/1063192021.py\u001b[0m in \u001b[0;36m<module>\u001b[1;34m\u001b[0m\n\u001b[0;32m      1\u001b[0m \u001b[1;31m#5) print out the decision path for the first test data sample X_test[0]. 5 points\u001b[0m\u001b[1;33m\u001b[0m\u001b[1;33m\u001b[0m\u001b[0m\n\u001b[1;32m----> 2\u001b[1;33m \u001b[0mprint\u001b[0m\u001b[1;33m(\u001b[0m\u001b[0mX_test\u001b[0m\u001b[1;33m[\u001b[0m\u001b[1;36m0\u001b[0m\u001b[1;33m:\u001b[0m\u001b[1;36m1\u001b[0m\u001b[1;33m]\u001b[0m\u001b[1;33m)\u001b[0m\u001b[1;33m\u001b[0m\u001b[1;33m\u001b[0m\u001b[0m\n\u001b[0m",
      "\u001b[1;31mNameError\u001b[0m: name 'X_test' is not defined"
     ]
    }
   ],
   "source": [
    "#5) print out the decision path for the first test data sample X_test[0]. 5 points\n",
    "print(X_test[0:1])\n"
   ]
  },
  {
   "cell_type": "markdown",
   "id": "2773fd53",
   "metadata": {},
   "source": [
    "##### 6) Question: Test different max_depth values (5, 8, 10, 20) and analyse the results? 15 points.\n",
    " - SET criterion = 'mse' and min_samples_leaf = 20\n",
    " - Compare the results with different max_depth values\n",
    " - Summarize the main disadvantages decision trees\n",
    " \n",
    "Response: "
   ]
  },
  {
   "cell_type": "markdown",
   "id": "677069e3",
   "metadata": {},
   "source": [
    "#### 3. Random forests. 30 points\n",
    "    1) What are the difference between bagging and random forests?\n",
    "    2)Train a random forest model. Please tune the arguments, n_estimators, max_features, max_depth, to achieve good performance. \n",
    "    3) Can your random forest model achieve better perofrmance than the decision tree? Please summarize the advantages of random forests?"
   ]
  },
  {
   "cell_type": "markdown",
   "id": "447095d7",
   "metadata": {},
   "source": [
    "##### 1) What is the main problem of bagging approach? and how random forests can address the problem? 5 points\n",
    "\n",
    "Response: "
   ]
  },
  {
   "cell_type": "code",
   "execution_count": 7,
   "id": "ef3ca9c5",
   "metadata": {},
   "outputs": [],
   "source": [
    "# Random forests\n",
    "from sklearn.ensemble import RandomForestRegressor as RFR\n",
    "\n",
    "# 2) train. 10 points\n",
    "\n",
    "\n",
    "#3) evaluate. 5 points. 10 extra points for R^2>0.8\n"
   ]
  },
  {
   "cell_type": "markdown",
   "id": "be89f111",
   "metadata": {},
   "source": [
    "##### 3) Can your random forest model achieve better perofrmance than the decision tree? Please summarize the advantages of random forests? 10 points\n",
    "\n",
    "Response: "
   ]
  }
 ],
 "metadata": {
  "kernelspec": {
   "display_name": "Python 3 (ipykernel)",
   "language": "python",
   "name": "python3"
  },
  "language_info": {
   "codemirror_mode": {
    "name": "ipython",
    "version": 3
   },
   "file_extension": ".py",
   "mimetype": "text/x-python",
   "name": "python",
   "nbconvert_exporter": "python",
   "pygments_lexer": "ipython3",
   "version": "3.9.7"
  }
 },
 "nbformat": 4,
 "nbformat_minor": 5
}

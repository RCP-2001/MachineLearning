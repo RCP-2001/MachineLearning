{
 "cells": [
  {
   "attachments": {},
   "cell_type": "markdown",
   "metadata": {},
   "source": [
    "Imports"
   ]
  },
  {
   "cell_type": "code",
   "execution_count": 7,
   "metadata": {},
   "outputs": [],
   "source": [
    "import tensorflow as tf\n",
    "import sklearn\n",
    "import statsmodels\n",
    "import pandas\n",
    "import matplotlib\n",
    "import scipy\n",
    "import numpy\n",
    "\n",
    "def Test1(num: int):\n",
    "    print(\"Num: %i\" % num)\n"
   ]
  },
  {
   "attachments": {},
   "cell_type": "markdown",
   "metadata": {},
   "source": [
    "Code"
   ]
  },
  {
   "cell_type": "code",
   "execution_count": 15,
   "metadata": {},
   "outputs": [
    {
     "name": "stdout",
     "output_type": "stream",
     "text": [
      "scipy: 1.7.3\n",
      "numpy: 1.22.3\n",
      "matplotlib: 3.6.2\n",
      "pandas: 1.4.4\n",
      "statsmodels: 0.13.2\n",
      "sklearn: 1.0.2\n",
      "tensorflow: 2.8.2\n",
      "Num: 18\n"
     ]
    }
   ],
   "source": [
    "\n",
    "print('scipy: %s' % scipy.__version__)\n",
    "# numpy\n",
    "print('numpy: %s' % numpy.__version__)\n",
    "# matplotlib\n",
    "print('matplotlib: %s' % matplotlib.__version__)\n",
    "# pandas\n",
    "print('pandas: %s' % pandas.__version__)\n",
    "# statsmodels\n",
    "print('statsmodels: %s' % statsmodels.__version__)\n",
    "# scikit-learn\n",
    "print('sklearn: %s' % sklearn.__version__)\n",
    "# TensorFlow\n",
    "print('tensorflow: %s' % tf.__version__)\n",
    "\n",
    "Test1(18.1)"
   ]
  }
 ],
 "metadata": {
  "kernelspec": {
   "display_name": "base",
   "language": "python",
   "name": "python3"
  },
  "language_info": {
   "codemirror_mode": {
    "name": "ipython",
    "version": 3
   },
   "file_extension": ".py",
   "mimetype": "text/x-python",
   "name": "python",
   "nbconvert_exporter": "python",
   "pygments_lexer": "ipython3",
   "version": "3.9.13"
  },
  "orig_nbformat": 4,
  "vscode": {
   "interpreter": {
    "hash": "432a9e8390958e78be81a9bd4193cff00d6df55b4f51eed9034ca8e02e01b86a"
   }
  }
 },
 "nbformat": 4,
 "nbformat_minor": 2
}
